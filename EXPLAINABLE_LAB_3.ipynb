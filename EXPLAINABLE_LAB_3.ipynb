{
  "nbformat": 4,
  "nbformat_minor": 0,
  "metadata": {
    "colab": {
      "provenance": []
    },
    "kernelspec": {
      "name": "python3",
      "display_name": "Python 3"
    },
    "language_info": {
      "name": "python"
    }
  },
  "cells": [
    {
      "cell_type": "markdown",
      "source": [
        "##SMS Spam dataset predicts spam/ham. LIME highlights spam words.\n",
        "Tasks:\n",
        "1. Load dataset\n",
        "2. Train Logistic Regression\n",
        "3. Apply LIME Text\n",
        "4. Highlight words\n",
        "Deliverables:\n",
        " Code\n",
        " Outputs\n",
        " Report\n"
      ],
      "metadata": {
        "id": "YOnPy2ghxTfP"
      }
    },
    {
      "cell_type": "code",
      "source": [
        "!pip install lime"
      ],
      "metadata": {
        "colab": {
          "base_uri": "https://localhost:8080/"
        },
        "id": "9i1c3BwgrGGF",
        "outputId": "219586e4-9988-4a49-ce63-9d527e3a6881"
      },
      "execution_count": null,
      "outputs": [
        {
          "output_type": "stream",
          "name": "stdout",
          "text": [
            "Collecting lime\n",
            "  Downloading lime-0.2.0.1.tar.gz (275 kB)\n",
            "\u001b[?25l     \u001b[90m━━━━━━━━━━━━━━━━━━━━━━━━━━━━━━━━━━━━━━━━\u001b[0m \u001b[32m0.0/275.7 kB\u001b[0m \u001b[31m?\u001b[0m eta \u001b[36m-:--:--\u001b[0m\r\u001b[2K     \u001b[91m━━━━━━━━━━━━━━━━━━━━━━━━\u001b[0m\u001b[91m╸\u001b[0m\u001b[90m━━━━━━━━━━━━━━\u001b[0m \u001b[32m174.1/275.7 kB\u001b[0m \u001b[31m5.0 MB/s\u001b[0m eta \u001b[36m0:00:01\u001b[0m\r\u001b[2K     \u001b[90m━━━━━━━━━━━━━━━━━━━━━━━━━━━━━━━━━━━━━━━\u001b[0m \u001b[32m275.7/275.7 kB\u001b[0m \u001b[31m5.4 MB/s\u001b[0m eta \u001b[36m0:00:00\u001b[0m\n",
            "\u001b[?25h  Preparing metadata (setup.py) ... \u001b[?25l\u001b[?25hdone\n",
            "Requirement already satisfied: matplotlib in /usr/local/lib/python3.12/dist-packages (from lime) (3.10.0)\n",
            "Requirement already satisfied: numpy in /usr/local/lib/python3.12/dist-packages (from lime) (2.0.2)\n",
            "Requirement already satisfied: scipy in /usr/local/lib/python3.12/dist-packages (from lime) (1.16.1)\n",
            "Requirement already satisfied: tqdm in /usr/local/lib/python3.12/dist-packages (from lime) (4.67.1)\n",
            "Requirement already satisfied: scikit-learn>=0.18 in /usr/local/lib/python3.12/dist-packages (from lime) (1.6.1)\n",
            "Requirement already satisfied: scikit-image>=0.12 in /usr/local/lib/python3.12/dist-packages (from lime) (0.25.2)\n",
            "Requirement already satisfied: networkx>=3.0 in /usr/local/lib/python3.12/dist-packages (from scikit-image>=0.12->lime) (3.5)\n",
            "Requirement already satisfied: pillow>=10.1 in /usr/local/lib/python3.12/dist-packages (from scikit-image>=0.12->lime) (11.3.0)\n",
            "Requirement already satisfied: imageio!=2.35.0,>=2.33 in /usr/local/lib/python3.12/dist-packages (from scikit-image>=0.12->lime) (2.37.0)\n",
            "Requirement already satisfied: tifffile>=2022.8.12 in /usr/local/lib/python3.12/dist-packages (from scikit-image>=0.12->lime) (2025.6.11)\n",
            "Requirement already satisfied: packaging>=21 in /usr/local/lib/python3.12/dist-packages (from scikit-image>=0.12->lime) (25.0)\n",
            "Requirement already satisfied: lazy-loader>=0.4 in /usr/local/lib/python3.12/dist-packages (from scikit-image>=0.12->lime) (0.4)\n",
            "Requirement already satisfied: joblib>=1.2.0 in /usr/local/lib/python3.12/dist-packages (from scikit-learn>=0.18->lime) (1.5.1)\n",
            "Requirement already satisfied: threadpoolctl>=3.1.0 in /usr/local/lib/python3.12/dist-packages (from scikit-learn>=0.18->lime) (3.6.0)\n",
            "Requirement already satisfied: contourpy>=1.0.1 in /usr/local/lib/python3.12/dist-packages (from matplotlib->lime) (1.3.3)\n",
            "Requirement already satisfied: cycler>=0.10 in /usr/local/lib/python3.12/dist-packages (from matplotlib->lime) (0.12.1)\n",
            "Requirement already satisfied: fonttools>=4.22.0 in /usr/local/lib/python3.12/dist-packages (from matplotlib->lime) (4.59.1)\n",
            "Requirement already satisfied: kiwisolver>=1.3.1 in /usr/local/lib/python3.12/dist-packages (from matplotlib->lime) (1.4.9)\n",
            "Requirement already satisfied: pyparsing>=2.3.1 in /usr/local/lib/python3.12/dist-packages (from matplotlib->lime) (3.2.3)\n",
            "Requirement already satisfied: python-dateutil>=2.7 in /usr/local/lib/python3.12/dist-packages (from matplotlib->lime) (2.9.0.post0)\n",
            "Requirement already satisfied: six>=1.5 in /usr/local/lib/python3.12/dist-packages (from python-dateutil>=2.7->matplotlib->lime) (1.17.0)\n",
            "Building wheels for collected packages: lime\n",
            "  Building wheel for lime (setup.py) ... \u001b[?25l\u001b[?25hdone\n",
            "  Created wheel for lime: filename=lime-0.2.0.1-py3-none-any.whl size=283834 sha256=122322ad612a3d4edae04cf7c0f39f2da3fe5bfbb10743478026b45c369653b1\n",
            "  Stored in directory: /root/.cache/pip/wheels/e7/5d/0e/4b4fff9a47468fed5633211fb3b76d1db43fe806a17fb7486a\n",
            "Successfully built lime\n",
            "Installing collected packages: lime\n",
            "Successfully installed lime-0.2.0.1\n"
          ]
        }
      ]
    },
    {
      "cell_type": "code",
      "source": [
        "import pandas as pd\n",
        "from sklearn.model_selection import train_test_split\n",
        "from sklearn.feature_extraction.text import TfidfVectorizer\n",
        "from sklearn.linear_model import LogisticRegression\n",
        "from sklearn.pipeline import make_pipeline\n",
        "from lime.lime_text import LimeTextExplainer\n",
        "from pathlib import Path\n"
      ],
      "metadata": {
        "id": "QAwIMZhtLx9o"
      },
      "execution_count": null,
      "outputs": []
    },
    {
      "cell_type": "code",
      "source": [
        "data_path = Path(\"/content/SMSSpamCollection\")\n",
        "df = pd.read_csv(data_path, sep='\\t', header=None, names=['label', 'text'])\n"
      ],
      "metadata": {
        "id": "SbZ_dQB9MhOP"
      },
      "execution_count": null,
      "outputs": []
    },
    {
      "cell_type": "code",
      "source": [
        "X = df['text']\n",
        "y = df['label']\n",
        "\n",
        "X_train, X_test, y_train, y_test = train_test_split(\n",
        "    X, y, test_size=0.2, random_state=42\n",
        ")\n"
      ],
      "metadata": {
        "id": "sAVqfLp4M8-f"
      },
      "execution_count": null,
      "outputs": []
    },
    {
      "cell_type": "code",
      "source": [
        "pipeline = make_pipeline(TfidfVectorizer(), LogisticRegression())\n",
        "pipeline.fit(X_train, y_train)\n",
        "\n",
        "print(\"Training Accuracy:\", pipeline.score(X_train, y_train))\n",
        "print(\"Test Accuracy:\", pipeline.score(X_test, y_test))\n"
      ],
      "metadata": {
        "id": "inTmUl_mNMx_",
        "colab": {
          "base_uri": "https://localhost:8080/"
        },
        "outputId": "a82455f0-ae63-45dd-e6ae-2d7449ba40f4"
      },
      "execution_count": null,
      "outputs": [
        {
          "output_type": "stream",
          "name": "stdout",
          "text": [
            "Training Accuracy: 0.9744222571236257\n",
            "Test Accuracy: 0.9748878923766816\n"
          ]
        }
      ]
    },
    {
      "cell_type": "code",
      "source": [
        "class_names = ['ham', 'spam']\n",
        "explainer = LimeTextExplainer(class_names=class_names)\n",
        "\n",
        "sample_index = 10\n",
        "sample_text = X_test.iloc[sample_index]\n",
        "true_label = y_test.iloc[sample_index]\n",
        "\n",
        "print(sample_text)\n",
        "print(\"Actual Label:\", true_label)\n",
        "\n",
        "exp = explainer.explain_instance(\n",
        "    sample_text,\n",
        "    pipeline.predict_proba,\n",
        "    num_features=6\n",
        ")\n"
      ],
      "metadata": {
        "id": "fYvlQ8SfNCBX",
        "colab": {
          "base_uri": "https://localhost:8080/"
        },
        "outputId": "77a8c391-b5f4-4c06-b963-93b06efd3c38"
      },
      "execution_count": null,
      "outputs": [
        {
          "output_type": "stream",
          "name": "stdout",
          "text": [
            "Lol grr my mom is taking forever with my prescription. Pharmacy is like 2 minutes away. Ugh.\n",
            "Actual Label: ham\n"
          ]
        }
      ]
    },
    {
      "cell_type": "code",
      "source": [
        "output_dir = Path(\"outputs\")\n",
        "output_dir.mkdir(exist_ok=True)\n",
        "\n",
        "output_file = output_dir / \"lime_explanation.html\"\n",
        "exp.save_to_file(str(output_file))\n",
        "\n",
        "print(f\"LIME explanation saved to: {output_file.resolve()}\")\n"
      ],
      "metadata": {
        "id": "83ZHuWgJNEYI",
        "colab": {
          "base_uri": "https://localhost:8080/"
        },
        "outputId": "2ea74885-d42d-4b1b-a690-0828452b2012"
      },
      "execution_count": null,
      "outputs": [
        {
          "output_type": "stream",
          "name": "stdout",
          "text": [
            "LIME explanation saved to: /content/outputs/lime_explanation.html\n"
          ]
        }
      ]
    },
    {
      "cell_type": "markdown",
      "source": [
        "##Airline dataset predicts satisfaction. LIME explains service-related features.\n",
        "Tasks:\n",
        "1. Load dataset\n",
        "2. Train Gradient Boosting\n",
        "3. Apply LIME\n",
        "4. Interpret contributions\n",
        "Deliverables:\n",
        " Code\n",
        " Outputs\n",
        " Report"
      ],
      "metadata": {
        "id": "n1NuqbHvrXGG"
      }
    },
    {
      "cell_type": "code",
      "source": [
        "import numpy as np\n",
        "import pandas as pd\n",
        "from sklearn.compose import ColumnTransformer\n",
        "from sklearn.preprocessing import OneHotEncoder\n",
        "from sklearn.impute import SimpleImputer\n",
        "from sklearn.pipeline import Pipeline\n",
        "from sklearn.ensemble import GradientBoostingClassifier\n",
        "from sklearn.linear_model import Ridge\n",
        "from sklearn.model_selection import train_test_split\n",
        "from sklearn.metrics import accuracy_score, classification_report, confusion_matrix, roc_auc_score\n",
        "import matplotlib.pyplot as plt\n",
        "\n",
        "# -----------------------------\n",
        "# File paths\n",
        "# -----------------------------\n",
        "DATASET_PATH = \"/content/airline_satisfaction.csv\"\n",
        "METRICS_PATH = \"/content/metrics_summary.csv\"\n",
        "LOCAL_EXPLAIN_PATH = \"/content/local_explanations.csv\"\n",
        "REPORT_PDF_PATH = \"/content/metrics_summary.csv\"\n",
        "\n",
        "# -----------------------------\n",
        "# 1) Load dataset\n",
        "# -----------------------------\n",
        "df = pd.read_csv(DATASET_PATH)\n",
        "print(\"Dataset preview:\")\n",
        "print(df.head())\n",
        "\n",
        "# -----------------------------\n",
        "# 2) Train Gradient Boosting\n",
        "# -----------------------------\n",
        "X = df.drop(\"Satisfaction\", axis=1)\n",
        "y = df[\"Satisfaction\"]\n",
        "\n",
        "cat_cols = [\"Gender\", \"Customer Type\", \"Type of Travel\", \"Class\"]\n",
        "num_cols = [c for c in X.columns if c not in cat_cols]\n",
        "\n",
        "preprocessor = ColumnTransformer([\n",
        "    (\"num\", SimpleImputer(strategy=\"median\"), num_cols),\n",
        "    (\"cat\", Pipeline([(\"imputer\", SimpleImputer(strategy=\"most_frequent\")),\n",
        "                      (\"ohe\", OneHotEncoder(handle_unknown=\"ignore\"))]), cat_cols)\n",
        "])\n",
        "\n",
        "gb_model = GradientBoostingClassifier(random_state=42)\n",
        "pipeline = Pipeline([(\"pre\", preprocessor), (\"clf\", gb_model)])\n",
        "\n",
        "X_train, X_test, y_train, y_test = train_test_split(X, y, test_size=0.25, random_state=42, stratify=y)\n",
        "pipeline.fit(X_train, y_train)\n",
        "\n",
        "y_pred = pipeline.predict(X_test)\n",
        "y_prob = pipeline.predict_proba(X_test)[:,1]\n",
        "\n",
        "# Save metrics\n",
        "metrics_df = pd.DataFrame([{\n",
        "    \"accuracy\": accuracy_score(y_test, y_pred),\n",
        "    \"roc_auc\": roc_auc_score(y_test, y_prob)\n",
        "}])\n",
        "metrics_df.to_csv(METRICS_PATH, index=False)\n",
        "print(\"\\nMetrics saved to:\", METRICS_PATH)\n",
        "\n",
        "# Print metrics\n",
        "print(\"\\nModel Metrics:\")\n",
        "print(\"Accuracy:\", accuracy_score(y_test, y_pred))\n",
        "print(\"ROC AUC:\", roc_auc_score(y_test, y_prob))\n",
        "print(\"Classification Report:\\n\", classification_report(y_test, y_pred))\n",
        "print(\"Confusion Matrix:\\n\", confusion_matrix(y_test, y_pred))\n",
        "\n",
        "# -----------------------------\n",
        "# 3) LIME-style explanations\n",
        "# -----------------------------\n",
        "def lime_explanation(instance, n_samples=500):\n",
        "    Xp = pd.concat([instance]*n_samples, ignore_index=True)\n",
        "    # numeric jitter\n",
        "    for col in num_cols:\n",
        "        std = X[col].std()\n",
        "        Xp[col] += np.random.normal(0, 0.5*std, size=n_samples)\n",
        "    # categorical flips\n",
        "    for col in cat_cols:\n",
        "        mask = np.random.rand(n_samples) < 0.1\n",
        "        choices = X[col].unique()\n",
        "        Xp.loc[mask, col] = np.random.choice(choices, mask.sum())\n",
        "    # predict\n",
        "    yhat = pipeline.predict_proba(Xp)[:,1]\n",
        "    # weighted Ridge\n",
        "    X_trans = pipeline.named_steps[\"pre\"].transform(Xp)\n",
        "    ridge = Ridge()\n",
        "    ridge.fit(X_trans, yhat)\n",
        "    coefs = ridge.coef_\n",
        "    feat_names = []\n",
        "    try:\n",
        "        ohe = pipeline.named_steps[\"pre\"].named_transformers_[\"cat\"].named_steps[\"ohe\"]\n",
        "        cat_feat_names = list(ohe.get_feature_names_out(cat_cols))\n",
        "        feat_names = num_cols + cat_feat_names\n",
        "    except:\n",
        "        feat_names = range(len(coefs))\n",
        "    contribs = pd.DataFrame({\"feature\": feat_names, \"contribution\": coefs})\n",
        "    return contribs\n",
        "\n",
        "# Explain 3 test instances\n",
        "instances = {\n",
        "    \"Most-likely Satisfied\": X_test.iloc[[np.argmax(y_prob)]],\n",
        "    \"Most-likely Dissatisfied\": X_test.iloc[[np.argmin(y_prob)]],\n",
        "    \"Random Passenger\": X_test.sample(1, random_state=42)\n",
        "}\n",
        "\n",
        "all_explanations = []\n",
        "for label, instance in instances.items():\n",
        "    contribs = lime_explanation(instance)\n",
        "    contribs[\"instance\"] = label\n",
        "    all_explanations.append(contribs)\n",
        "\n",
        "all_explanations_df = pd.concat(all_explanations, ignore_index=True)\n",
        "all_explanations_df.to_csv(LOCAL_EXPLAIN_PATH, index=False)\n",
        "print(\"\\nLIME-style explanations saved to:\", LOCAL_EXPLAIN_PATH)\n",
        "\n",
        "# -----------------------------\n",
        "# 4) Optional: visualize probability histogram\n",
        "# -----------------------------\n",
        "plt.figure()\n",
        "plt.hist(y_prob, bins=20)\n",
        "plt.title(\"Predicted Satisfaction Probabilities\")\n",
        "plt.xlabel(\"Probability\")\n",
        "plt.ylabel(\"Frequency\")\n",
        "plt.show()\n"
      ],
      "metadata": {
        "colab": {
          "base_uri": "https://localhost:8080/",
          "height": 1000
        },
        "id": "JARmzoAyrecH",
        "outputId": "6e17a728-beaa-4ac5-ba7e-54d36cbd5ffd"
      },
      "execution_count": null,
      "outputs": [
        {
          "output_type": "stream",
          "name": "stdout",
          "text": [
            "Dataset preview:\n",
            "   Gender      Customer Type   Type of Travel     Class  Age  Flight Distance  \\\n",
            "0  Female     Loyal Customer  Personal Travel       Eco   18              950   \n",
            "1    Male  Disloyal Customer  Business travel  Eco Plus   53              786   \n",
            "2  Female  Disloyal Customer  Personal Travel  Business   53             1570   \n",
            "3  Female     Loyal Customer  Personal Travel  Business   33               80   \n",
            "4    Male     Loyal Customer  Personal Travel       Eco   45             1536   \n",
            "\n",
            "   Departure Delay in Minutes  Arrival Delay in Minutes  \\\n",
            "0                          12                         2   \n",
            "1                           5                         1   \n",
            "2                           3                         3   \n",
            "3                           9                         0   \n",
            "4                          18                        13   \n",
            "\n",
            "   Inflight wifi service  Ease of Online booking  ...  Online boarding  \\\n",
            "0                      2                       5  ...                4   \n",
            "1                      4                       4  ...                4   \n",
            "2                      4                       3  ...                4   \n",
            "3                      2                       4  ...                4   \n",
            "4                      4                       5  ...                3   \n",
            "\n",
            "   Seat comfort  Inflight entertainment  On-board service  Leg room service  \\\n",
            "0             5                       5                 3                 3   \n",
            "1             4                       3                 5                 3   \n",
            "2             4                       5                 4                 0   \n",
            "3             4                       3                 4                 3   \n",
            "4             3                       3                 5                 3   \n",
            "\n",
            "   Baggage handling  Checkin service  Inflight service  Cleanliness  \\\n",
            "0                 4                5                 2            5   \n",
            "1                 4                3                 4            5   \n",
            "2                 4                3                 4            3   \n",
            "3                 4                4                 4            4   \n",
            "4                 4                4                 4            5   \n",
            "\n",
            "   Satisfaction  \n",
            "0             1  \n",
            "1             0  \n",
            "2             0  \n",
            "3             0  \n",
            "4             0  \n",
            "\n",
            "[5 rows x 22 columns]\n",
            "\n",
            "Metrics saved to: /content/metrics_summary.csv\n",
            "\n",
            "Model Metrics:\n",
            "Accuracy: 0.5008\n",
            "ROC AUC: 0.5035609465755393\n",
            "Classification Report:\n",
            "               precision    recall  f1-score   support\n",
            "\n",
            "           0       0.47      0.37      0.41       298\n",
            "           1       0.52      0.62      0.57       327\n",
            "\n",
            "    accuracy                           0.50       625\n",
            "   macro avg       0.49      0.49      0.49       625\n",
            "weighted avg       0.50      0.50      0.49       625\n",
            "\n",
            "Confusion Matrix:\n",
            " [[110 188]\n",
            " [124 203]]\n",
            "\n",
            "LIME-style explanations saved to: /content/local_explanations.csv\n"
          ]
        },
        {
          "output_type": "display_data",
          "data": {
            "text/plain": [
              "<Figure size 640x480 with 1 Axes>"
            ],
            "image/png": "[encoded data removed]"
          },
          "metadata": {}
        }
      ]
    }
  ]
}